{
 "cells": [
  {
   "cell_type": "code",
   "execution_count": 10,
   "metadata": {},
   "outputs": [],
   "source": [
    "import pandas as pd\n",
    "import numpy as np\n",
    "import requests\n",
    "import json\n",
    "from pandas.io.json import json_normalize"
   ]
  },
  {
   "cell_type": "code",
   "execution_count": 28,
   "metadata": {},
   "outputs": [],
   "source": [
    "# Global Variables\n",
    "KEY = 'RGAPI-43328613-3420-442b-951e-dba801261833'\n",
    "API_BASE = 'https://na1.api.riotgames.com/'\n",
    "API_BASE_REGION = 'https://americas.api.riotgames.com/'\n",
    "\n",
    "TIERS = ['IRON', 'BRONZE', 'SILVER', 'GOLD', 'PLATINUM', 'DIAMOND']\n",
    "DIVISIONS = ['I', 'II', 'III', 'IV']\n",
    "TIERS_LIST = []\n",
    "for tier in TIERS:\n",
    "  each_tier = tier\n",
    "  for division in DIVISIONS:\n",
    "    each_division = division\n",
    "    TIER_DIVISION = each_tier + '/' + each_division\n",
    "    TIERS_LIST.append(TIER_DIVISION)\n",
    "\n",
    "TIER_URLS = []\n",
    "for tiers_divis in TIERS_LIST: \n",
    "  url = API_BASE + 'tft/league/v1/entries/' + tiers_divis + '?page=1&api_key=' + KEY\n",
    "  TIER_URLS.append(url)"
   ]
  },
  {
   "cell_type": "code",
   "execution_count": 6,
   "metadata": {},
   "outputs": [
    {
     "data": {
      "text/plain": [
       "['https://na1.api.riotgames.com/tft/league/v1/entries/IRON/I?page=1&api_key=RGAPI-43328613-3420-442b-951e-dba801261833',\n",
       " 'https://na1.api.riotgames.com/tft/league/v1/entries/IRON/II?page=1&api_key=RGAPI-43328613-3420-442b-951e-dba801261833',\n",
       " 'https://na1.api.riotgames.com/tft/league/v1/entries/IRON/III?page=1&api_key=RGAPI-43328613-3420-442b-951e-dba801261833',\n",
       " 'https://na1.api.riotgames.com/tft/league/v1/entries/IRON/IV?page=1&api_key=RGAPI-43328613-3420-442b-951e-dba801261833',\n",
       " 'https://na1.api.riotgames.com/tft/league/v1/entries/BRONZE/I?page=1&api_key=RGAPI-43328613-3420-442b-951e-dba801261833',\n",
       " 'https://na1.api.riotgames.com/tft/league/v1/entries/BRONZE/II?page=1&api_key=RGAPI-43328613-3420-442b-951e-dba801261833',\n",
       " 'https://na1.api.riotgames.com/tft/league/v1/entries/BRONZE/III?page=1&api_key=RGAPI-43328613-3420-442b-951e-dba801261833',\n",
       " 'https://na1.api.riotgames.com/tft/league/v1/entries/BRONZE/IV?page=1&api_key=RGAPI-43328613-3420-442b-951e-dba801261833',\n",
       " 'https://na1.api.riotgames.com/tft/league/v1/entries/SILVER/I?page=1&api_key=RGAPI-43328613-3420-442b-951e-dba801261833',\n",
       " 'https://na1.api.riotgames.com/tft/league/v1/entries/SILVER/II?page=1&api_key=RGAPI-43328613-3420-442b-951e-dba801261833',\n",
       " 'https://na1.api.riotgames.com/tft/league/v1/entries/SILVER/III?page=1&api_key=RGAPI-43328613-3420-442b-951e-dba801261833',\n",
       " 'https://na1.api.riotgames.com/tft/league/v1/entries/SILVER/IV?page=1&api_key=RGAPI-43328613-3420-442b-951e-dba801261833',\n",
       " 'https://na1.api.riotgames.com/tft/league/v1/entries/GOLD/I?page=1&api_key=RGAPI-43328613-3420-442b-951e-dba801261833',\n",
       " 'https://na1.api.riotgames.com/tft/league/v1/entries/GOLD/II?page=1&api_key=RGAPI-43328613-3420-442b-951e-dba801261833',\n",
       " 'https://na1.api.riotgames.com/tft/league/v1/entries/GOLD/III?page=1&api_key=RGAPI-43328613-3420-442b-951e-dba801261833',\n",
       " 'https://na1.api.riotgames.com/tft/league/v1/entries/GOLD/IV?page=1&api_key=RGAPI-43328613-3420-442b-951e-dba801261833',\n",
       " 'https://na1.api.riotgames.com/tft/league/v1/entries/PLATINUM/I?page=1&api_key=RGAPI-43328613-3420-442b-951e-dba801261833',\n",
       " 'https://na1.api.riotgames.com/tft/league/v1/entries/PLATINUM/II?page=1&api_key=RGAPI-43328613-3420-442b-951e-dba801261833',\n",
       " 'https://na1.api.riotgames.com/tft/league/v1/entries/PLATINUM/III?page=1&api_key=RGAPI-43328613-3420-442b-951e-dba801261833',\n",
       " 'https://na1.api.riotgames.com/tft/league/v1/entries/PLATINUM/IV?page=1&api_key=RGAPI-43328613-3420-442b-951e-dba801261833',\n",
       " 'https://na1.api.riotgames.com/tft/league/v1/entries/DIAMOND/I?page=1&api_key=RGAPI-43328613-3420-442b-951e-dba801261833',\n",
       " 'https://na1.api.riotgames.com/tft/league/v1/entries/DIAMOND/II?page=1&api_key=RGAPI-43328613-3420-442b-951e-dba801261833',\n",
       " 'https://na1.api.riotgames.com/tft/league/v1/entries/DIAMOND/III?page=1&api_key=RGAPI-43328613-3420-442b-951e-dba801261833',\n",
       " 'https://na1.api.riotgames.com/tft/league/v1/entries/DIAMOND/IV?page=1&api_key=RGAPI-43328613-3420-442b-951e-dba801261833']"
      ]
     },
     "execution_count": 6,
     "metadata": {},
     "output_type": "execute_result"
    }
   ],
   "source": [
    "TIER_URLS"
   ]
  },
  {
   "cell_type": "code",
   "execution_count": 18,
   "metadata": {},
   "outputs": [],
   "source": [
    "# Get list of each summoner in each tier\n",
    "tier_frames = []\n",
    "\n",
    "for url in TIER_URLS:\n",
    "  REQUEST_TIERS = requests.get(url)\n",
    "  tier_data = json.loads(REQUEST_TIERS.text)\n",
    "  #each_tier_data = pd.DataFrame(tier_data)\n",
    "  tier_df = json_normalize(tier_data)\n",
    "  tier_frames.append(tier_df)\n",
    "divisions = pd.concat(tier_frames, ignore_index=True, sort=True)"
   ]
  },
  {
   "cell_type": "code",
   "execution_count": 19,
   "metadata": {
    "scrolled": true
   },
   "outputs": [
    {
     "data": {
      "text/html": [
       "<div>\n",
       "<style scoped>\n",
       "    .dataframe tbody tr th:only-of-type {\n",
       "        vertical-align: middle;\n",
       "    }\n",
       "\n",
       "    .dataframe tbody tr th {\n",
       "        vertical-align: top;\n",
       "    }\n",
       "\n",
       "    .dataframe thead th {\n",
       "        text-align: right;\n",
       "    }\n",
       "</style>\n",
       "<table border=\"1\" class=\"dataframe\">\n",
       "  <thead>\n",
       "    <tr style=\"text-align: right;\">\n",
       "      <th></th>\n",
       "      <th>freshBlood</th>\n",
       "      <th>hotStreak</th>\n",
       "      <th>inactive</th>\n",
       "      <th>leagueId</th>\n",
       "      <th>leaguePoints</th>\n",
       "      <th>losses</th>\n",
       "      <th>queueType</th>\n",
       "      <th>rank</th>\n",
       "      <th>summonerId</th>\n",
       "      <th>summonerName</th>\n",
       "      <th>tier</th>\n",
       "      <th>veteran</th>\n",
       "      <th>wins</th>\n",
       "    </tr>\n",
       "  </thead>\n",
       "  <tbody>\n",
       "    <tr>\n",
       "      <td>0</td>\n",
       "      <td>False</td>\n",
       "      <td>False</td>\n",
       "      <td>False</td>\n",
       "      <td>bba31c20-0f0a-11ea-9d15-0292af83ade6</td>\n",
       "      <td>94</td>\n",
       "      <td>5</td>\n",
       "      <td>RANKED_TFT</td>\n",
       "      <td>I</td>\n",
       "      <td>yuST92qI7G8ZiMWVBzHJ6e2xONnD6Rc1R-AfC3IU-FEsK8xY</td>\n",
       "      <td>Thesmokingpun</td>\n",
       "      <td>IRON</td>\n",
       "      <td>False</td>\n",
       "      <td>0</td>\n",
       "    </tr>\n",
       "    <tr>\n",
       "      <td>1</td>\n",
       "      <td>False</td>\n",
       "      <td>False</td>\n",
       "      <td>False</td>\n",
       "      <td>3e06330f-c4f3-4a08-a497-e81f6df10588</td>\n",
       "      <td>13</td>\n",
       "      <td>9</td>\n",
       "      <td>RANKED_TFT</td>\n",
       "      <td>I</td>\n",
       "      <td>8VN_E8UqdztjMGB_OU5taldKe8rYdKqbQeQNJij7aa8Bx8BS</td>\n",
       "      <td>Iskoog</td>\n",
       "      <td>IRON</td>\n",
       "      <td>False</td>\n",
       "      <td>0</td>\n",
       "    </tr>\n",
       "    <tr>\n",
       "      <td>2</td>\n",
       "      <td>False</td>\n",
       "      <td>False</td>\n",
       "      <td>False</td>\n",
       "      <td>f4694230-0bb0-11ea-b9fc-eeb4098ebaa0</td>\n",
       "      <td>22</td>\n",
       "      <td>5</td>\n",
       "      <td>RANKED_TFT</td>\n",
       "      <td>I</td>\n",
       "      <td>Ild9nWTxkyF8XWYHIbSKkO4l_HuWKnc-oCBhnMwm2txdJVdu</td>\n",
       "      <td>paybackisthename</td>\n",
       "      <td>IRON</td>\n",
       "      <td>False</td>\n",
       "      <td>0</td>\n",
       "    </tr>\n",
       "    <tr>\n",
       "      <td>3</td>\n",
       "      <td>False</td>\n",
       "      <td>False</td>\n",
       "      <td>False</td>\n",
       "      <td>13e67db0-19e1-11ea-8ce1-0256c6254f55</td>\n",
       "      <td>30</td>\n",
       "      <td>5</td>\n",
       "      <td>RANKED_TFT</td>\n",
       "      <td>I</td>\n",
       "      <td>cID8eSPpX2QVsydzTIdzHtXD1GBIjf_kTsl3zIXIctjPOspl</td>\n",
       "      <td>Dasheng Tian</td>\n",
       "      <td>IRON</td>\n",
       "      <td>False</td>\n",
       "      <td>2</td>\n",
       "    </tr>\n",
       "    <tr>\n",
       "      <td>4</td>\n",
       "      <td>False</td>\n",
       "      <td>False</td>\n",
       "      <td>False</td>\n",
       "      <td>7d8917d0-0bc9-11ea-979f-2641a46f9168</td>\n",
       "      <td>36</td>\n",
       "      <td>10</td>\n",
       "      <td>RANKED_TFT</td>\n",
       "      <td>I</td>\n",
       "      <td>W-TVgwPansXgPFFZBt72gvPQEzrW5WqUH05uMAfD8OrKoGCq</td>\n",
       "      <td>KetherEheieh</td>\n",
       "      <td>IRON</td>\n",
       "      <td>False</td>\n",
       "      <td>2</td>\n",
       "    </tr>\n",
       "  </tbody>\n",
       "</table>\n",
       "</div>"
      ],
      "text/plain": [
       "   freshBlood  hotStreak  inactive                              leagueId  \\\n",
       "0       False      False     False  bba31c20-0f0a-11ea-9d15-0292af83ade6   \n",
       "1       False      False     False  3e06330f-c4f3-4a08-a497-e81f6df10588   \n",
       "2       False      False     False  f4694230-0bb0-11ea-b9fc-eeb4098ebaa0   \n",
       "3       False      False     False  13e67db0-19e1-11ea-8ce1-0256c6254f55   \n",
       "4       False      False     False  7d8917d0-0bc9-11ea-979f-2641a46f9168   \n",
       "\n",
       "   leaguePoints  losses   queueType rank  \\\n",
       "0            94       5  RANKED_TFT    I   \n",
       "1            13       9  RANKED_TFT    I   \n",
       "2            22       5  RANKED_TFT    I   \n",
       "3            30       5  RANKED_TFT    I   \n",
       "4            36      10  RANKED_TFT    I   \n",
       "\n",
       "                                         summonerId      summonerName  tier  \\\n",
       "0  yuST92qI7G8ZiMWVBzHJ6e2xONnD6Rc1R-AfC3IU-FEsK8xY     Thesmokingpun  IRON   \n",
       "1  8VN_E8UqdztjMGB_OU5taldKe8rYdKqbQeQNJij7aa8Bx8BS            Iskoog  IRON   \n",
       "2  Ild9nWTxkyF8XWYHIbSKkO4l_HuWKnc-oCBhnMwm2txdJVdu  paybackisthename  IRON   \n",
       "3  cID8eSPpX2QVsydzTIdzHtXD1GBIjf_kTsl3zIXIctjPOspl      Dasheng Tian  IRON   \n",
       "4  W-TVgwPansXgPFFZBt72gvPQEzrW5WqUH05uMAfD8OrKoGCq      KetherEheieh  IRON   \n",
       "\n",
       "   veteran  wins  \n",
       "0    False     0  \n",
       "1    False     0  \n",
       "2    False     0  \n",
       "3    False     2  \n",
       "4    False     2  "
      ]
     },
     "execution_count": 19,
     "metadata": {},
     "output_type": "execute_result"
    }
   ],
   "source": [
    "divisions.head()"
   ]
  },
  {
   "cell_type": "code",
   "execution_count": 20,
   "metadata": {},
   "outputs": [],
   "source": [
    "# Get summoner name from divisions data frame\n",
    "summoner_names = divisions.loc[ 0:29 , 'summonerName' ]"
   ]
  },
  {
   "cell_type": "code",
   "execution_count": 55,
   "metadata": {},
   "outputs": [],
   "source": [
    "summoner_frames = []\n",
    "\n",
    "\n",
    "for summoner in summoner_names:\n",
    "  summoner_url = API_BASE + 'tft/summoner/v1/summoners/by-name/' + summoner + '?api_key=' + KEY\n",
    "  REQUEST_NAME = requests.get(summoner_url)\n",
    "  summoner_data = json.loads(REQUEST_NAME.text)\n",
    "  summoner_df = json_normalize(summoner_data)\n",
    "  summoner_frames.append(summoner_df)\n",
    "join_summoners = pd.concat(summoner_frames, ignore_index=True, sort=True)"
   ]
  },
  {
   "cell_type": "code",
   "execution_count": 74,
   "metadata": {},
   "outputs": [],
   "source": [
    "# Get puuid from summoners data frame\n",
    "summoner_puuid = join_summoners.loc[ : , 'puuid' ]"
   ]
  },
  {
   "cell_type": "code",
   "execution_count": 80,
   "metadata": {},
   "outputs": [],
   "source": [
    "#summoner_puuid"
   ]
  },
  {
   "cell_type": "code",
   "execution_count": 75,
   "metadata": {},
   "outputs": [],
   "source": [
    "game_id_frames = []\n",
    "match_count = '10'\n",
    "\n",
    "for puuid in summoner_puuid:\n",
    "  match_url = API_BASE_REGION + '/tft/match/v1/matches/by-puuid/' + puuid + '/ids?count=' + match_count + '&api_key=' + KEY\n",
    "  REQUEST_MATCH = requests.get(match_url)\n",
    "  match_data = json.loads(REQUEST_MATCH.text)\n",
    "  match_df = pd.Series(match_data)\n",
    "  game_id_frames.append(match_df)\n",
    "game_id_data = pd.concat(game_id_frames, ignore_index=True, sort=True)"
   ]
  },
  {
   "cell_type": "code",
   "execution_count": 82,
   "metadata": {},
   "outputs": [],
   "source": [
    "game_id_list = game_id_data.loc[:]"
   ]
  },
  {
   "cell_type": "code",
   "execution_count": 83,
   "metadata": {},
   "outputs": [],
   "source": [
    "#game_id_list"
   ]
  },
  {
   "cell_type": "code",
   "execution_count": null,
   "metadata": {},
   "outputs": [],
   "source": [
    "game_id_frames = []\n",
    "match_count = '10'\n",
    "\n",
    "for puuid in summoner_puuid:\n",
    "  match_url = API_BASE_REGION + '/tft/match/v1/matches/by-puuid/' + puuid + '/ids?count=' + match_count + '&api_key=' + KEY\n",
    "  REQUEST_MATCH = requests.get(match_url)\n",
    "  match_data = json.loads(REQUEST_MATCH.text)\n",
    "  match_df = pd.DataFrame(match_data)\n",
    "  game_id_frames.append(match_df)\n",
    "game_id_data = pd.concat(game_id_frames, ignore_index=True, sort=True)"
   ]
  }
 ],
 "metadata": {
  "kernelspec": {
   "display_name": "Python 3",
   "language": "python",
   "name": "python3"
  },
  "language_info": {
   "codemirror_mode": {
    "name": "ipython",
    "version": 3
   },
   "file_extension": ".py",
   "mimetype": "text/x-python",
   "name": "python",
   "nbconvert_exporter": "python",
   "pygments_lexer": "ipython3",
   "version": "3.7.4"
  }
 },
 "nbformat": 4,
 "nbformat_minor": 2
}

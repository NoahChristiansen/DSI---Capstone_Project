{
 "cells": [
  {
   "cell_type": "markdown",
   "metadata": {},
   "source": [
    "## Modeling"
   ]
  },
  {
   "cell_type": "code",
   "execution_count": 1,
   "metadata": {},
   "outputs": [],
   "source": [
    "import pandas as pd\n",
    "import seaborn as sns\n",
    "import matplotlib.pyplot as plt\n",
    "import matplotlib\n",
    "%matplotlib inline\n",
    "\n",
    "from sklearn.model_selection import train_test_split, cross_val_score, GridSearchCV\n",
    "from sklearn.preprocessing import StandardScaler\n",
    "from sklearn.tree import DecisionTreeClassifier\n",
    "from sklearn.ensemble import BaggingClassifier, RandomForestClassifier, ExtraTreesClassifier, AdaBoostClassifier\n",
    "from sklearn.multiclass import OneVsRestClassifier\n",
    "from xgboost import XGBClassifier\n",
    "from sklearn.pipeline import Pipeline\n",
    "from sklearn import metrics\n",
    "from sklearn.metrics import roc_curve, auc, precision_recall_curve, precision_score, recall_score, f1_score, average_precision_score"
   ]
  },
  {
   "cell_type": "markdown",
   "metadata": {},
   "source": [
    "### Load the different dataframes for modeling"
   ]
  },
  {
   "cell_type": "code",
   "execution_count": 2,
   "metadata": {},
   "outputs": [
    {
     "data": {
      "text/plain": [
       "Index(['placement', 'Berserker_1', 'Celestial_1', 'Crystal_1', 'Desert_1',\n",
       "       'Druid_1', 'Electric_1', 'Inferno_1', 'Light_1', 'Mage_1', 'Metal_1',\n",
       "       'Mountain_1', 'Mystic_1', 'Ocean_1', 'Poison_1', 'Predator_1',\n",
       "       'Assassin_1', 'Blademaster_1', 'Glacial_1', 'Ranger_1', 'Shadow_1',\n",
       "       'Soulbound_1', 'Summoner_1', 'Warden_1', 'Wind_1', 'Woodland_1',\n",
       "       'Berserker_2', 'Crystal_2', 'Desert_2', 'Electric_2', 'Inferno_2',\n",
       "       'Light_2', 'Mage_2', 'Metal_2', 'Mystic_2', 'Ocean_2', 'Assassin_2',\n",
       "       'Blademaster_2', 'Glacial_2', 'Ranger_2', 'Shadow_2', 'Summoner_2',\n",
       "       'Warden_2', 'Wind_2', 'Woodland_2', 'Electric_3', 'Inferno_3',\n",
       "       'Light_3', 'Metal_3', 'Ocean_3', 'Blademaster_3', 'Glacial_3',\n",
       "       'Ranger_3', 'Warden_3', 'Wind_3'],\n",
       "      dtype='object')"
      ]
     },
     "execution_count": 2,
     "metadata": {},
     "output_type": "execute_result"
    }
   ],
   "source": [
    "# We will load only the filtered dataframes as the original master_dataframe has even more collinearity and cannot perform any better\n",
    "combo_df = pd.read_csv('../datasets/combo_filtered_game_df.csv', index_col = 0)\n",
    "champion_df = pd.read_csv('../datasets/champion_filtered_game_df.csv', index_col = 0)\n",
    "\n",
    "combo_df.columns"
   ]
  },
  {
   "cell_type": "markdown",
   "metadata": {},
   "source": [
    "### Baseline Score"
   ]
  },
  {
   "cell_type": "markdown",
   "metadata": {},
   "source": [
    "In oder to calculate our baseline score, we will first take a look at our distribution of 'placement' classes."
   ]
  },
  {
   "cell_type": "markdown",
   "metadata": {},
   "source": [
    "#### combo_df "
   ]
  },
  {
   "cell_type": "code",
   "execution_count": 3,
   "metadata": {},
   "outputs": [
    {
     "data": {
      "text/plain": [
       "(array([627., 676., 599., 585., 649., 696., 676., 768.]),\n",
       " array([1.   , 1.875, 2.75 , 3.625, 4.5  , 5.375, 6.25 , 7.125, 8.   ]),\n",
       " <a list of 8 Patch objects>)"
      ]
     },
     "execution_count": 3,
     "metadata": {},
     "output_type": "execute_result"
    },
    {
     "data": {
      "image/png": "[encoded data removed]",
      "text/plain": [
       "<Figure size 432x288 with 1 Axes>"
      ]
     },
     "metadata": {
      "needs_background": "light"
     },
     "output_type": "display_data"
    }
   ],
   "source": [
    "plt.hist(combo_df.placement, bins= combo_df.placement.max())"
   ]
  },
  {
   "cell_type": "markdown",
   "metadata": {},
   "source": [
    "#### champion_df"
   ]
  },
  {
   "cell_type": "code",
   "execution_count": 4,
   "metadata": {},
   "outputs": [
    {
     "data": {
      "text/plain": [
       "(array([627., 676., 599., 585., 649., 696., 676., 768.]),\n",
       " array([1.   , 1.875, 2.75 , 3.625, 4.5  , 5.375, 6.25 , 7.125, 8.   ]),\n",
       " <a list of 8 Patch objects>)"
      ]
     },
     "execution_count": 4,
     "metadata": {},
     "output_type": "execute_result"
    },
    {
     "data": {
      "image/png": "[encoded data removed]",
      "text/plain": [
       "<Figure size 432x288 with 1 Axes>"
      ]
     },
     "metadata": {
      "needs_background": "light"
     },
     "output_type": "display_data"
    }
   ],
   "source": [
    "plt.hist(champion_df.placement, bins= combo_df.placement.max())"
   ]
  },
  {
   "cell_type": "markdown",
   "metadata": {},
   "source": [
    "If our data was evenly distributed for all placements, we would take our baseline model score as 1/ $k$ where $k$ is defined as the number of classes.  However, we notice that the distribution is actually not even so we will take the percentage of our most apparent class and use that as our **baseline score.**"
   ]
  },
  {
   "cell_type": "code",
   "execution_count": 5,
   "metadata": {},
   "outputs": [
    {
     "data": {
      "text/plain": [
       "8    0.145565\n",
       "6    0.131918\n",
       "7    0.128127\n",
       "2    0.128127\n",
       "5    0.123010\n",
       "1    0.118840\n",
       "3    0.113533\n",
       "4    0.110879\n",
       "Name: placement, dtype: float64"
      ]
     },
     "execution_count": 5,
     "metadata": {},
     "output_type": "execute_result"
    }
   ],
   "source": [
    "combo_df['placement'].value_counts(normalize=True)"
   ]
  },
  {
   "cell_type": "markdown",
   "metadata": {},
   "source": [
    "It makes sense that the distribution of the two different datasets have the same baseline score of **0.146** because they were derived from the same original dataframe where the number of rows stay the same between the two dataframe."
   ]
  },
  {
   "cell_type": "markdown",
   "metadata": {},
   "source": [
    "### Features & Target"
   ]
  },
  {
   "cell_type": "code",
   "execution_count": 15,
   "metadata": {},
   "outputs": [],
   "source": [
    "# features\n",
    "X_combo = combo_df.drop(['placement'], axis=1)\n",
    "X_champ = champion_df.drop(['placement'], axis=1)\n",
    "\n",
    "# targets , since both dataframes are derived from a single dataframe with just different features, we can use the same y\n",
    "y = combo_df['placement']"
   ]
  },
  {
   "cell_type": "markdown",
   "metadata": {},
   "source": [
    "### Train Test Split"
   ]
  },
  {
   "cell_type": "code",
   "execution_count": 19,
   "metadata": {},
   "outputs": [],
   "source": [
    "X_train_combo, X_test_combo, y_train_combo, y_test_combo = train_test_split(X_combo, y, \n",
    "                                                                            stratify=y,\n",
    "                                                                            random_state = 42)\n",
    "\n",
    "X_train_champ, X_test_champ, y_train_champ, y_test_champ = train_test_split(X_champ, y, \n",
    "                                                                            stratify=y,\n",
    "                                                                            random_state = 42)"
   ]
  },
  {
   "cell_type": "code",
   "execution_count": 56,
   "metadata": {},
   "outputs": [
    {
     "name": "stdout",
     "output_type": "stream",
     "text": [
      "(3957, 54)\n",
      "(1319, 54)\n",
      "(3957,)\n",
      "(1319,)\n"
     ]
    }
   ],
   "source": [
    "# checking the shape of the newly created train and test set\n",
    "print(X_train_combo.shape)\n",
    "print(X_test_combo.shape)\n",
    "print(y_train_combo.shape)\n",
    "print(y_test_combo.shape)"
   ]
  },
  {
   "cell_type": "markdown",
   "metadata": {},
   "source": [
    "### Decision Tree Classifier"
   ]
  },
  {
   "cell_type": "markdown",
   "metadata": {},
   "source": [
    "#### Combo based dataset"
   ]
  },
  {
   "cell_type": "code",
   "execution_count": 59,
   "metadata": {},
   "outputs": [
    {
     "name": "stdout",
     "output_type": "stream",
     "text": [
      "Decision Tree Train Score: 0.6244629770027799\n",
      "Decision Tree Test Score: 0.17664897649734648\n"
     ]
    }
   ],
   "source": [
    "dtc_combo = DecisionTreeClassifier()\n",
    "dtc_combo.fit(X_train_combo, y_train_combo)\n",
    "\n",
    "print(f'Decision Tree Train Score: {dtc_combo.score(X_train_combo, y_train_combo)}')\n",
    "print(f'Decision Tree Test Score: {dtc_combo.score(X_test_combo, y_test_combo)}')"
   ]
  },
  {
   "cell_type": "markdown",
   "metadata": {},
   "source": [
    "#### Champion based dataset"
   ]
  },
  {
   "cell_type": "code",
   "execution_count": 58,
   "metadata": {},
   "outputs": [
    {
     "name": "stdout",
     "output_type": "stream",
     "text": [
      "Decision Tree Train Score: 0.9840788476118272\n",
      "Decision Tree Test Score: 0.19408642911296436\n"
     ]
    }
   ],
   "source": [
    "dtc_champ = DecisionTreeClassifier()\n",
    "dtc_champ.fit(X_train_champ, y_train_champ)\n",
    "\n",
    "print(f'Decision Tree Train Score: {dtc_champ.score(X_train_champ, y_train_champ)}')\n",
    "print(f'Decision Tree Test Score: {dtc_champ.score(X_test_champ, y_test_champ)}')"
   ]
  },
  {
   "cell_type": "markdown",
   "metadata": {},
   "source": [
    "### Bagged Decision Trees"
   ]
  },
  {
   "cell_type": "markdown",
   "metadata": {},
   "source": [
    "#### Combo based dataset"
   ]
  },
  {
   "cell_type": "code",
   "execution_count": 61,
   "metadata": {},
   "outputs": [
    {
     "name": "stdout",
     "output_type": "stream",
     "text": [
      "Bagged Decision Tree Train Score: 0.6161233257518322\n",
      "Bagged Decision Tree Test Score: 0.18726307808946172\n"
     ]
    }
   ],
   "source": [
    "bdc_combo = BaggingClassifier()\n",
    "bdc_combo.fit(X_train_combo, y_train_combo)\n",
    "\n",
    "print(f'Bagged Decision Tree Train Score: {bdc_combo.score(X_train_combo, y_train_combo)}')\n",
    "print(f'Bagged Decision Tree Test Score: {bdc_combo.score(X_test_combo, y_test_combo)}')"
   ]
  },
  {
   "cell_type": "markdown",
   "metadata": {},
   "source": [
    "#### Champion based dataset"
   ]
  },
  {
   "cell_type": "code",
   "execution_count": 64,
   "metadata": {
    "scrolled": true
   },
   "outputs": [
    {
     "name": "stdout",
     "output_type": "stream",
     "text": [
      "Bagged Decision Tree Train Score: 0.970684862269396\n",
      "Bagged Decision Tree Test Score: 0.22517058377558757\n"
     ]
    }
   ],
   "source": [
    "bdc_champ = BaggingClassifier()\n",
    "bdc_champ.fit(X_train_champ, y_train_champ)\n",
    "\n",
    "print(f'Bagged Decision Tree Train Score: {bdc_champ.score(X_train_champ, y_train_champ)}')\n",
    "print(f'Bagged Decision Tree Test Score: {bdc_champ.score(X_test_champ, y_test_champ)}')"
   ]
  },
  {
   "cell_type": "markdown",
   "metadata": {},
   "source": [
    "### Random Forest Trees"
   ]
  },
  {
   "cell_type": "markdown",
   "metadata": {},
   "source": [
    "#### Combo based dataset"
   ]
  },
  {
   "cell_type": "code",
   "execution_count": 65,
   "metadata": {},
   "outputs": [
    {
     "name": "stdout",
     "output_type": "stream",
     "text": [
      "Random Forest Tree Train Score: 0.6244629770027799\n",
      "Random Forest Tree Test Score: 0.18574677786201668\n"
     ]
    }
   ],
   "source": [
    "rfc_combo = RandomForestClassifier()\n",
    "rfc_combo.fit(X_train_combo, y_train_combo)\n",
    "\n",
    "print(f'Random Forest Tree Train Score: {rfc_combo.score(X_train_combo, y_train_combo)}')\n",
    "print(f'Random Forest Tree Test Score: {rfc_combo.score(X_test_combo, y_test_combo)}')"
   ]
  },
  {
   "cell_type": "markdown",
   "metadata": {},
   "source": [
    "#### Champion based dataset"
   ]
  },
  {
   "cell_type": "code",
   "execution_count": 66,
   "metadata": {
    "scrolled": true
   },
   "outputs": [
    {
     "name": "stdout",
     "output_type": "stream",
     "text": [
      "Random Forest Tree Train Score: 0.9840788476118272\n",
      "Random Forest Tree Test Score: 0.2403335860500379\n"
     ]
    }
   ],
   "source": [
    "rfc_champ = RandomForestClassifier()\n",
    "rfc_champ.fit(X_train_champ, y_train_champ)\n",
    "\n",
    "print(f'Random Forest Tree Train Score: {rfc_champ.score(X_train_champ, y_train_champ)}')\n",
    "print(f'Random Forest Tree Test Score: {rfc_champ.score(X_test_champ, y_test_champ)}')"
   ]
  },
  {
   "cell_type": "markdown",
   "metadata": {},
   "source": [
    "### AdaBoost"
   ]
  },
  {
   "cell_type": "markdown",
   "metadata": {},
   "source": [
    "#### Combo based dataset"
   ]
  },
  {
   "cell_type": "code",
   "execution_count": 67,
   "metadata": {},
   "outputs": [
    {
     "name": "stdout",
     "output_type": "stream",
     "text": [
      "AdaBoost Train Score: 0.26105635582512005\n",
      "AdaBoost Test Score: 0.2100075815011372\n"
     ]
    }
   ],
   "source": [
    "ada_combo = AdaBoostClassifier()\n",
    "ada_combo.fit(X_train_combo, y_train_combo)\n",
    "\n",
    "print(f'AdaBoost Train Score: {ada_combo.score(X_train_combo, y_train_combo)}')\n",
    "print(f'AdaBoost Test Score: {ada_combo.score(X_test_combo, y_test_combo)}')"
   ]
  },
  {
   "cell_type": "markdown",
   "metadata": {},
   "source": [
    "#### Champion based dataset"
   ]
  },
  {
   "cell_type": "code",
   "execution_count": 68,
   "metadata": {
    "scrolled": true
   },
   "outputs": [
    {
     "name": "stdout",
     "output_type": "stream",
     "text": [
      "AdaBoost Train Score: 0.3009855951478393\n",
      "AdaBoost Test Score: 0.26156178923426837\n"
     ]
    }
   ],
   "source": [
    "ada_champ = AdaBoostClassifier()\n",
    "ada_champ.fit(X_train_champ, y_train_champ)\n",
    "\n",
    "print(f'AdaBoost Train Score: {ada_champ.score(X_train_champ, y_train_champ)}')\n",
    "print(f'AdaBoost Test Score: {ada_champ.score(X_test_champ, y_test_champ)}')"
   ]
  },
  {
   "cell_type": "markdown",
   "metadata": {},
   "source": [
    "### XGBoost"
   ]
  },
  {
   "cell_type": "markdown",
   "metadata": {},
   "source": [
    "#### Combo based dataset"
   ]
  },
  {
   "cell_type": "code",
   "execution_count": 69,
   "metadata": {},
   "outputs": [
    {
     "name": "stdout",
     "output_type": "stream",
     "text": [
      "XGBoost Train Score: 0.4763709881223149\n",
      "XGBoost Test Score: 0.20242608036391205\n"
     ]
    }
   ],
   "source": [
    "xgb_combo = XGBClassifier()\n",
    "xgb_combo.fit(X_train_combo, y_train_combo)\n",
    "\n",
    "print(f'XGBoost Train Score: {xgb_combo.score(X_train_combo, y_train_combo)}')\n",
    "print(f'XGBoost Test Score: {xgb_combo.score(X_test_combo, y_test_combo)}')"
   ]
  },
  {
   "cell_type": "markdown",
   "metadata": {},
   "source": [
    "#### Champion based dataset"
   ]
  },
  {
   "cell_type": "code",
   "execution_count": 87,
   "metadata": {
    "scrolled": false
   },
   "outputs": [
    {
     "name": "stdout",
     "output_type": "stream",
     "text": [
      "XGBoost Train Score: 0.8433156431640132\n",
      "XGBoost Test Score: 0.2532221379833207\n"
     ]
    }
   ],
   "source": [
    "xgb_champ = XGBClassifier()\n",
    "xgb_champ.fit(X_train_champ, y_train_champ)\n",
    "\n",
    "print(f'XGBoost Train Score: {xgb_champ.score(X_train_champ, y_train_champ)}')\n",
    "print(f'XGBoost Test Score: {xgb_champ.score(X_test_champ, y_test_champ)}')"
   ]
  },
  {
   "cell_type": "markdown",
   "metadata": {},
   "source": [
    "## Model Evaluation"
   ]
  },
  {
   "cell_type": "markdown",
   "metadata": {},
   "source": [
    "### Combo based dataset  Accuracy Scores"
   ]
  },
  {
   "cell_type": "code",
   "execution_count": 73,
   "metadata": {
    "scrolled": true
   },
   "outputs": [
    {
     "name": "stdout",
     "output_type": "stream",
     "text": [
      "Decision Tree Train Score: 0.6244629770027799\n",
      "Decision Tree Test Score: 0.17664897649734648\n",
      "---------------------------------------------\n",
      "Bagged Decision Tree Train Score: 0.6161233257518322\n",
      "Bagged Decision Tree Test Score: 0.18726307808946172\n",
      "---------------------------------------------\n",
      "Random Forest Tree Train Score: 0.6244629770027799\n",
      "Random Forest Tree Test Score: 0.18574677786201668\n",
      "---------------------------------------------\n",
      "AdaBoost Train Score: 0.26105635582512005\n",
      "AdaBoost Test Score: 0.2100075815011372\n",
      "---------------------------------------------\n",
      "XGBoost Train Score: 0.4763709881223149\n",
      "XGBoost Test Score: 0.20242608036391205\n",
      "---------------------------------------------\n"
     ]
    }
   ],
   "source": [
    "print(f'Decision Tree Train Score: {dtc_combo.score(X_train_combo, y_train_combo)}')\n",
    "print(f'Decision Tree Test Score: {dtc_combo.score(X_test_combo, y_test_combo)}')\n",
    "print('---------------------------------------------')\n",
    "print(f'Bagged Decision Tree Train Score: {bdc_combo.score(X_train_combo, y_train_combo)}')\n",
    "print(f'Bagged Decision Tree Test Score: {bdc_combo.score(X_test_combo, y_test_combo)}')\n",
    "print('---------------------------------------------')\n",
    "print(f'Random Forest Tree Train Score: {rfc_combo.score(X_train_combo, y_train_combo)}')\n",
    "print(f'Random Forest Tree Test Score: {rfc_combo.score(X_test_combo, y_test_combo)}')\n",
    "print('---------------------------------------------')\n",
    "print(f'AdaBoost Train Score: {ada_combo.score(X_train_combo, y_train_combo)}')\n",
    "print(f'AdaBoost Test Score: {ada_combo.score(X_test_combo, y_test_combo)}')\n",
    "print('---------------------------------------------')\n",
    "print(f'XGBoost Train Score: {xgb_combo.score(X_train_combo, y_train_combo)}')\n",
    "print(f'XGBoost Test Score: {xgb_combo.score(X_test_combo, y_test_combo)}')\n",
    "print('---------------------------------------------')"
   ]
  },
  {
   "cell_type": "markdown",
   "metadata": {},
   "source": [
    "### Champion based dataset  Accuracy Scores"
   ]
  },
  {
   "cell_type": "code",
   "execution_count": 99,
   "metadata": {
    "scrolled": false
   },
   "outputs": [
    {
     "name": "stdout",
     "output_type": "stream",
     "text": [
      "Decision Tree Train Score: 0.9840788476118272\n",
      "Decision Tree Test Score: 0.19408642911296436\n",
      "---------------------------------------------\n",
      "Bagged Decision Tree Train Score: 0.970684862269396\n",
      "Bagged Decision Tree Test Score: 0.22517058377558757\n",
      "---------------------------------------------\n",
      "Random Forest Tree Train Score: 0.9840788476118272\n",
      "Random Forest Tree Test Score: 0.2403335860500379\n",
      "---------------------------------------------\n",
      "AdaBoost Train Score: 0.3009855951478393\n",
      "AdaBoost Test Score: 0.26156178923426837\n",
      "---------------------------------------------\n",
      "XGBoost Train Score: 0.8433156431640132\n",
      "XGBoost Test Score: 0.2532221379833207\n",
      "---------------------------------------------\n"
     ]
    }
   ],
   "source": [
    "print(f'Decision Tree Train Score: {dtc_champ.score(X_train_champ, y_train_champ)}')\n",
    "print(f'Decision Tree Test Score: {dtc_champ.score(X_test_champ, y_test_champ)}')\n",
    "print('---------------------------------------------')\n",
    "print(f'Bagged Decision Tree Train Score: {bdc_champ.score(X_train_champ, y_train_champ)}')\n",
    "print(f'Bagged Decision Tree Test Score: {bdc_champ.score(X_test_champ, y_test_champ)}')\n",
    "print('---------------------------------------------')\n",
    "print(f'Random Forest Tree Train Score: {rfc_champ.score(X_train_champ, y_train_champ)}')\n",
    "print(f'Random Forest Tree Test Score: {rfc_champ.score(X_test_champ, y_test_champ)}')\n",
    "print('---------------------------------------------')\n",
    "print(f'AdaBoost Train Score: {ada_champ.score(X_train_champ, y_train_champ)}')\n",
    "print(f'AdaBoost Test Score: {ada_champ.score(X_test_champ, y_test_champ)}')\n",
    "print('---------------------------------------------')\n",
    "print(f'XGBoost Train Score: {xgb_champ.score(X_train_champ, y_train_champ)}')\n",
    "print(f'XGBoost Test Score: {xgb_champ.score(X_test_champ, y_test_champ)}')\n",
    "print('---------------------------------------------')\n"
   ]
  },
  {
   "cell_type": "markdown",
   "metadata": {},
   "source": [
    "Judging by the accuracy scores of the different models used to evaluate 'placement', AdaBoost and XGBoost ensemble methods gave the best results on the test set.  However, AdaBoost in particular seems to have worked the best and did not overfit as much either.  We will use GridSearchCV to tune the hyperparameters to see if we can improve our performance of the model."
   ]
  },
  {
   "cell_type": "markdown",
   "metadata": {},
   "source": [
    "#### Taking a quick peek at the important features indicated by the top performing models"
   ]
  },
  {
   "cell_type": "markdown",
   "metadata": {},
   "source": [
    "#### AdaBoost"
   ]
  },
  {
   "cell_type": "code",
   "execution_count": 93,
   "metadata": {},
   "outputs": [],
   "source": [
    "important_features_ada = pd.DataFrame(list(ada_champ.feature_importances_), columns = ['importance'], index = X_champ.columns)"
   ]
  },
  {
   "cell_type": "code",
   "execution_count": 117,
   "metadata": {},
   "outputs": [
    {
     "data": {
      "text/plain": [
       "Janna_2       0.04\n",
       "Neeko_3       0.02\n",
       "Twitch_2      0.02\n",
       "Taric_2       0.02\n",
       "Syndra_3      0.02\n",
       "              ... \n",
       "Renekton_1    0.00\n",
       "RekSai_2      0.00\n",
       "RekSai_1      0.00\n",
       "Qiyana_2      0.00\n",
       "Aatrox_1      0.00\n",
       "Name: importance, Length: 176, dtype: float64"
      ]
     },
     "execution_count": 117,
     "metadata": {},
     "output_type": "execute_result"
    }
   ],
   "source": [
    "important_features_ada['importance'].sort_values(ascending=False)"
   ]
  },
  {
   "cell_type": "markdown",
   "metadata": {},
   "source": [
    "#### XGBoost"
   ]
  },
  {
   "cell_type": "code",
   "execution_count": 96,
   "metadata": {},
   "outputs": [],
   "source": [
    "important_features_xgb = pd.DataFrame(list(xgb_champ.feature_importances_), columns = ['importance'], index = X_champ.columns)"
   ]
  },
  {
   "cell_type": "code",
   "execution_count": 119,
   "metadata": {},
   "outputs": [
    {
     "data": {
      "text/plain": [
       "Taric_2       0.016063\n",
       "Avatar_1      0.013209\n",
       "MasterYi_2    0.012853\n",
       "Zed_2         0.011969\n",
       "Brand_3       0.010888\n",
       "                ...   \n",
       "Ivern_1       0.001355\n",
       "Lucian_3      0.000000\n",
       "Ashe_3        0.000000\n",
       "Khazix_3      0.000000\n",
       "Annie_3       0.000000\n",
       "Name: importance, Length: 176, dtype: float64"
      ]
     },
     "execution_count": 119,
     "metadata": {},
     "output_type": "execute_result"
    }
   ],
   "source": [
    "important_features_xgb['importance'].sort_values(ascending=False)"
   ]
  },
  {
   "cell_type": "markdown",
   "metadata": {},
   "source": [
    "## Optimization using GridSearchCV"
   ]
  },
  {
   "cell_type": "markdown",
   "metadata": {},
   "source": [
    "### Decision Trees"
   ]
  },
  {
   "cell_type": "code",
   "execution_count": 108,
   "metadata": {},
   "outputs": [
    {
     "data": {
      "text/plain": [
       "{'max_depth': 25, 'max_features': None, 'min_samples_leaf': 1}"
      ]
     },
     "execution_count": 108,
     "metadata": {},
     "output_type": "execute_result"
    }
   ],
   "source": [
    "dtc_params = {'max_depth' : [25], # 15,20,25,30,35,40\n",
    "              'min_samples_leaf' : [1,2,3],\n",
    "              'max_features' : [None,50,100,150]}\n",
    "\n",
    "gs_dtc = GridSearchCV(dtc_champ, param_grid = dtc_params, cv = 5)\n",
    "gs_dtc.fit(X_train_champ, y_train_champ)\n",
    "gs_dtc.best_params_"
   ]
  },
  {
   "cell_type": "code",
   "execution_count": 109,
   "metadata": {},
   "outputs": [
    {
     "data": {
      "text/plain": [
       "DecisionTreeClassifier(ccp_alpha=0.0, class_weight=None, criterion='gini',\n",
       "                       max_depth=25, max_features=None, max_leaf_nodes=None,\n",
       "                       min_impurity_decrease=0.0, min_impurity_split=None,\n",
       "                       min_samples_leaf=1, min_samples_split=2,\n",
       "                       min_weight_fraction_leaf=0.0, presort='deprecated',\n",
       "                       random_state=42, splitter='best')"
      ]
     },
     "execution_count": 109,
     "metadata": {},
     "output_type": "execute_result"
    }
   ],
   "source": [
    "dtc_best = DecisionTreeClassifier(max_depth=25,\n",
    "                                  min_samples_leaf=1,\n",
    "                                  random_state =42)\n",
    "dtc_best.fit(X_train_champ,y_train_champ)"
   ]
  },
  {
   "cell_type": "code",
   "execution_count": 110,
   "metadata": {},
   "outputs": [
    {
     "name": "stdout",
     "output_type": "stream",
     "text": [
      "Decision Tree Train Score: 0.7278241091736164\n",
      "Decision Tree Test Score: 0.2221379833206975\n",
      "---------------------------------------------\n"
     ]
    }
   ],
   "source": [
    "print(f'Decision Tree Train Score: {dtc_best.score(X_train_champ, y_train_champ)}')\n",
    "print(f'Decision Tree Test Score: {dtc_best.score(X_test_champ, y_test_champ)}')\n",
    "print('---------------------------------------------')"
   ]
  },
  {
   "cell_type": "markdown",
   "metadata": {},
   "source": [
    "### Random Forest"
   ]
  },
  {
   "cell_type": "code",
   "execution_count": 111,
   "metadata": {},
   "outputs": [
    {
     "data": {
      "text/plain": [
       "{'max_depth': 20, 'min_samples_leaf': 3, 'n_estimators': 50}"
      ]
     },
     "execution_count": 111,
     "metadata": {},
     "output_type": "execute_result"
    }
   ],
   "source": [
    "rfc_params = {'max_depth' : [10,20,35], \n",
    "              'n_estimators' : [50],\n",
    "              'min_samples_leaf' : [1,2,3]}\n",
    "\n",
    "gs_rfc = GridSearchCV(rfc_champ, param_grid = rfc_params, cv = 5)\n",
    "gs_rfc.fit(X_train_champ, y_train_champ)\n",
    "gs_rfc.best_params_"
   ]
  },
  {
   "cell_type": "code",
   "execution_count": 112,
   "metadata": {},
   "outputs": [
    {
     "data": {
      "text/plain": [
       "RandomForestClassifier(bootstrap=True, ccp_alpha=0.0, class_weight=None,\n",
       "                       criterion='gini', max_depth=20, max_features='auto',\n",
       "                       max_leaf_nodes=None, max_samples=None,\n",
       "                       min_impurity_decrease=0.0, min_impurity_split=None,\n",
       "                       min_samples_leaf=3, min_samples_split=2,\n",
       "                       min_weight_fraction_leaf=0.0, n_estimators=50,\n",
       "                       n_jobs=None, oob_score=False, random_state=42, verbose=0,\n",
       "                       warm_start=False)"
      ]
     },
     "execution_count": 112,
     "metadata": {},
     "output_type": "execute_result"
    }
   ],
   "source": [
    "rfc_best = RandomForestClassifier(max_depth=20, \n",
    "                         n_estimators=50,\n",
    "                         min_samples_leaf=3,\n",
    "                         random_state =42)\n",
    "rfc_best.fit(X_train_champ,y_train_champ)"
   ]
  },
  {
   "cell_type": "code",
   "execution_count": 113,
   "metadata": {},
   "outputs": [
    {
     "name": "stdout",
     "output_type": "stream",
     "text": [
      "Random Forest Train Score: 0.6338134950720242\n",
      "Random Forest Test Score: 0.27369219105382864\n",
      "---------------------------------------------\n"
     ]
    }
   ],
   "source": [
    "\n",
    "print(f'Random Forest Train Score: {rfc_best.score(X_train_champ, y_train_champ)}')\n",
    "print(f'Random Forest Test Score: {rfc_best.score(X_test_champ, y_test_champ)}')\n",
    "print('---------------------------------------------')"
   ]
  },
  {
   "cell_type": "markdown",
   "metadata": {},
   "source": [
    "### XGBoost"
   ]
  },
  {
   "cell_type": "code",
   "execution_count": 114,
   "metadata": {},
   "outputs": [
    {
     "data": {
      "text/plain": [
       "{'gamma': 1, 'max_depth': 6, 'n_estimators': 25}"
      ]
     },
     "execution_count": 114,
     "metadata": {},
     "output_type": "execute_result"
    }
   ],
   "source": [
    "xgb_params = {'max_depth' : [6], # 4,5,6\n",
    "              'n_estimators' : [25], # 10,15,20,25\n",
    "              'gamma': [1]} # 0,1,5\n",
    "\n",
    "gs_xgb = GridSearchCV(xgb_champ, param_grid = xgb_params, cv = 5)\n",
    "gs_xgb.fit(X_train_champ, y_train_champ)\n",
    "gs_xgb.best_params_"
   ]
  },
  {
   "cell_type": "code",
   "execution_count": 115,
   "metadata": {},
   "outputs": [
    {
     "data": {
      "text/plain": [
       "XGBClassifier(base_score=0.5, booster=None, colsample_bylevel=1,\n",
       "              colsample_bynode=1, colsample_bytree=1, gamma=1, gpu_id=-1,\n",
       "              importance_type='gain', interaction_constraints=None,\n",
       "              learning_rate=0.300000012, max_delta_step=0, max_depth=6,\n",
       "              min_child_weight=1, missing=nan, monotone_constraints=None,\n",
       "              n_estimators=25, n_jobs=0, num_parallel_tree=1,\n",
       "              objective='multi:softprob', random_state=42, reg_alpha=0,\n",
       "              reg_lambda=1, scale_pos_weight=None, subsample=1,\n",
       "              tree_method=None, validate_parameters=False, verbosity=None)"
      ]
     },
     "execution_count": 115,
     "metadata": {},
     "output_type": "execute_result"
    }
   ],
   "source": [
    "xgb_best = XGBClassifier(max_depth=6, \n",
    "                         n_estimators=25,\n",
    "                         gamma=1,\n",
    "                         random_state =42)\n",
    "xgb_best.fit(X_train_champ,y_train_champ)"
   ]
  },
  {
   "cell_type": "code",
   "execution_count": 118,
   "metadata": {},
   "outputs": [
    {
     "name": "stdout",
     "output_type": "stream",
     "text": [
      "XGBoost Train Score: 0.5539550164265858\n",
      "XGBoost Test Score: 0.26156178923426837\n",
      "---------------------------------------------\n"
     ]
    }
   ],
   "source": [
    "\n",
    "print(f'XGBoost Train Score: {xgb_best.score(X_train_champ, y_train_champ)}')\n",
    "print(f'XGBoost Test Score: {xgb_best.score(X_test_champ, y_test_champ)}')\n",
    "print('---------------------------------------------')"
   ]
  },
  {
   "cell_type": "markdown",
   "metadata": {},
   "source": [
    "# Conclusion"
   ]
  },
  {
   "cell_type": "markdown",
   "metadata": {},
   "source": [
    "After we have optimized our model by tuning the hyper parameters of our models, we found that our XGBoost Model can predict the placement of a player at approximately 26% accuracy.  This at first seemed like a low value; however, when compared to our baseline score of 0.146, our XGBoost accuracy score of 0.261 is actually performing far better at predicting placement of a player when using champion units data.\n",
    "\n",
    "Originally, we had believed that we would be able to determine whether we can predict the best team composition based on our model prediction then taking the important feature depicted by the model to determine whether it is a good indicator.  After actually executing the models, although we did better than the baseline, it still does not seem like there is a great predictor that specifically assists in becoming a winner."
   ]
  }
 ],
 "metadata": {
  "kernelspec": {
   "display_name": "Python 3",
   "language": "python",
   "name": "python3"
  },
  "language_info": {
   "codemirror_mode": {
    "name": "ipython",
    "version": 3
   },
   "file_extension": ".py",
   "mimetype": "text/x-python",
   "name": "python",
   "nbconvert_exporter": "python",
   "pygments_lexer": "ipython3",
   "version": "3.7.4"
  }
 },
 "nbformat": 4,
 "nbformat_minor": 2
}

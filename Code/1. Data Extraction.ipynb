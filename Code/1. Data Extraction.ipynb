{
 "cells": [
  {
   "cell_type": "markdown",
   "metadata": {},
   "source": [
    "# 1. Data Extraction"
   ]
  },
  {
   "cell_type": "markdown",
   "metadata": {},
   "source": [
    "## Table of Contents:\n",
    "- [Imports](#Imports)\n",
    "- [Ratelimit](#Ratelimit)\n",
    "- [Summoner Names](#Summoner-Names)\n",
    "- [PUUID](#PUUID)\n",
    "- [Game ID](#Game-ID)\n",
    "- [Match Information](#Match-Information)\n",
    "- [Data Extraction](#Data-Extraction)\n"
   ]
  },
  {
   "cell_type": "markdown",
   "metadata": {},
   "source": [
    "### Imports"
   ]
  },
  {
   "cell_type": "code",
   "execution_count": null,
   "metadata": {},
   "outputs": [],
   "source": [
    "import pandas as pd\n",
    "import numpy as np\n",
    "import requests\n",
    "import json\n",
    "from pandas.io.json import json_normalize\n",
    "from ratelimit import limits, sleep_and_retry\n",
    "import requests"
   ]
  },
  {
   "cell_type": "markdown",
   "metadata": {},
   "source": [
    "### Ratelimit"
   ]
  },
  {
   "cell_type": "markdown",
   "metadata": {},
   "source": [
    "Using below code snippet, we were able to set up a timed limiter that will continuously make requests through the API in a timed fashion so that it does not surpass the number of requests beyond the API's given threshold.  RIOT API has a limit of 120 requests per 2 minutes so we set our ratelimit threshhold at 90 calls per every 2 minutes in efforts to not timeout while making requests continously."
   ]
  },
  {
   "cell_type": "code",
   "execution_count": null,
   "metadata": {},
   "outputs": [],
   "source": [
    "# https://pypi.org/project/ratelimit/\n",
    "\n",
    "two_minutes = 120\n",
    "\n",
    "@sleep_and_retry\n",
    "@limits(calls=90, period=two_minutes)\n",
    "def call_api(url):\n",
    "    response = requests.get(url)\n",
    "\n",
    "    if response.status_code != 200:\n",
    "        raise Exception('API response: {}'.format(response.status_code))\n",
    "    return response\n"
   ]
  },
  {
   "cell_type": "markdown",
   "metadata": {},
   "source": [
    "### Summoner Names"
   ]
  },
  {
   "cell_type": "markdown",
   "metadata": {},
   "source": [
    "We will first create a list of combinations of player's rank tiers and divisions so that we can substitute the concatenated list into the tft/league/v1/entries/ API query to obtain all the players in game IDs (summoner name) that exist in the ranking system for North America."
   ]
  },
  {
   "cell_type": "code",
   "execution_count": null,
   "metadata": {},
   "outputs": [],
   "source": [
    "# Global Variables for API \n",
    "KEY = 'RGAPI-676264e0-fb2d-45c8-8db6-612cd065d286'\n",
    "API_BASE = 'https://na1.api.riotgames.com/'\n",
    "API_BASE_REGION = 'https://americas.api.riotgames.com/'\n",
    " \n",
    "# Setting up combinations of player's Rank Tier to query into RIOT API\n",
    "TIERS = ['IRON' , 'BRONZE' , 'SILVER', 'GOLD', 'PLATINUM', 'DIAMOND']\n",
    "DIVISIONS = ['I' , 'II', 'III', 'IV']\n",
    "TIERS_LIST = []\n",
    "for tier in TIERS:\n",
    "  for division in DIVISIONS:\n",
    "    TIER_DIVISION = tier + '/' + division\n",
    "    TIERS_LIST.append(TIER_DIVISION)\n",
    "\n",
    "TIER_URLS = []\n",
    "for tiers_divis in TIERS_LIST: \n",
    "  url = API_BASE + 'tft/league/v1/entries/' + tiers_divis + '?page=1&api_key=' + KEY\n",
    "  TIER_URLS.append(url)"
   ]
  },
  {
   "cell_type": "code",
   "execution_count": null,
   "metadata": {},
   "outputs": [],
   "source": [
    "TIER_URLS"
   ]
  },
  {
   "cell_type": "code",
   "execution_count": null,
   "metadata": {},
   "outputs": [],
   "source": [
    "# Get list of each summoner in each tier\n",
    "tier_frames = []\n",
    "\n",
    "for url in TIER_URLS:\n",
    "  REQUEST_TIERS = call_api(url)\n",
    "  tier_data = json.loads(REQUEST_TIERS.text)\n",
    "  tier_df = json_normalize(tier_data)\n",
    "  tier_frames.append(tier_df)\n",
    "divisions = pd.concat(tier_frames, ignore_index=True, sort=True)"
   ]
  },
  {
   "cell_type": "code",
   "execution_count": null,
   "metadata": {},
   "outputs": [],
   "source": [
    "divisions['division_tier'] = divisions['tier'] + '_' + divisions['rank'] \n",
    "divisions"
   ]
  },
  {
   "cell_type": "code",
   "execution_count": null,
   "metadata": {
    "scrolled": true
   },
   "outputs": [],
   "source": [
    "divisions"
   ]
  },
  {
   "cell_type": "code",
   "execution_count": null,
   "metadata": {},
   "outputs": [],
   "source": [
    "# Get summoner name from divisions data frame / keeping it at 5 for now for testing\n",
    "summoner_names = divisions.loc[ :, 'summonerName' ]"
   ]
  },
  {
   "cell_type": "code",
   "execution_count": null,
   "metadata": {},
   "outputs": [],
   "source": [
    "summoner_names"
   ]
  },
  {
   "cell_type": "markdown",
   "metadata": {},
   "source": [
    "### PUUID"
   ]
  },
  {
   "cell_type": "markdown",
   "metadata": {},
   "source": [
    "RIOT API assigns distinct puuid values for each player which can be used to look up match data.  Using the list we created previously, we will traverse through the list and run them into the tft/summoner/v1/summoners query to obtain the list of corresponding puuid for the summoners names."
   ]
  },
  {
   "cell_type": "code",
   "execution_count": null,
   "metadata": {},
   "outputs": [],
   "source": [
    "summoner_frames = []\n",
    "\n",
    "for summoner in summoner_names:\n",
    "  summoner_url = API_BASE + 'tft/summoner/v1/summoners/by-name/' + summoner + '?api_key=' + KEY\n",
    "  REQUEST_NAME = call_api(summoner_url)\n",
    "  summoner_data = json.loads(REQUEST_NAME.text)\n",
    "  summoner_df = json_normalize(summoner_data)\n",
    "  summoner_frames.append(summoner_df)\n",
    "join_summoners = pd.concat(summoner_frames, ignore_index=True, sort=True)"
   ]
  },
  {
   "cell_type": "code",
   "execution_count": null,
   "metadata": {},
   "outputs": [],
   "source": [
    "join_summoners = join_summoners.merge(divisions[['summonerName','division_tier']],left_on='name', right_on = 'summonerName')"
   ]
  },
  {
   "cell_type": "code",
   "execution_count": null,
   "metadata": {},
   "outputs": [],
   "source": [
    "join_summoners.head()"
   ]
  },
  {
   "cell_type": "code",
   "execution_count": null,
   "metadata": {},
   "outputs": [],
   "source": [
    "# Get puuid from summoners data frame\n",
    "summoner_puuid = join_summoners.loc[ : , 'puuid' ]"
   ]
  },
  {
   "cell_type": "code",
   "execution_count": null,
   "metadata": {},
   "outputs": [],
   "source": [
    "summoner_puuid"
   ]
  },
  {
   "cell_type": "markdown",
   "metadata": {},
   "source": [
    "### Game ID"
   ]
  },
  {
   "cell_type": "markdown",
   "metadata": {},
   "source": [
    "Using the list of puuid, we query them into tft/match/v1/matches/by-puuid/ to obtain a list of the first match game IDs corresponding to each of the player's puuid.  We set our match_count equals to 1 so that we can obtain a new list of match IDs from the most recent match of all the players from all rank divisions and tiers.  We had to manually set the match_count to 1 when a single query maximum is 20 due to the Riot server saving entries of players with minimum of 1 game.  This ensured that we had data for each of the players being looked up however, when the players ONLY had 1 recent match, it would result in a flood of null values so we had to work around the limitations of the API."
   ]
  },
  {
   "cell_type": "code",
   "execution_count": null,
   "metadata": {},
   "outputs": [],
   "source": [
    "game_id_frames = []\n",
    "match_count = '1'\n",
    "\n",
    "for puuid in summoner_puuid:\n",
    "  match_url = API_BASE_REGION + '/tft/match/v1/matches/by-puuid/' + puuid + '/ids?count=' + match_count + '&api_key=' + KEY\n",
    "  REQUEST_MATCH = call_api(match_url)\n",
    "  match_data = json.loads(REQUEST_MATCH.text)\n",
    "  match_df = pd.Series(match_data)\n",
    "  game_id_frames.append(match_df)\n",
    "game_id_data = pd.concat(game_id_frames, ignore_index=True, sort=True)"
   ]
  },
  {
   "cell_type": "code",
   "execution_count": null,
   "metadata": {},
   "outputs": [],
   "source": [
    "# need to convert to series\n",
    "game_id_list = game_id_data.loc[:]"
   ]
  },
  {
   "cell_type": "code",
   "execution_count": null,
   "metadata": {},
   "outputs": [],
   "source": [
    "game_id_list"
   ]
  },
  {
   "cell_type": "markdown",
   "metadata": {},
   "source": [
    "### Match Information"
   ]
  },
  {
   "cell_type": "markdown",
   "metadata": {},
   "source": [
    "As our final step, we will run the query on the list of game IDs into tft/match/v1/matches/ to obtain the match details.  Match details provided from RIOT API consists of all 8 players information on the team compositions and champions used at the moment of their elimination.  For example, if a player is eliminated earlier on, the pieces that made up his board when he was knocked out will be recorded.  For a player who achieve first place, their final board pieces at the moment of victory is recorded.\n",
    "\n",
    "Since the information we are interested in is stored in a list of dictionaries in a dataframe, we need to convert the data so that it is ready for our modeling process.  As for the details of the team compositions and champion units, the dictionary for the details includes their names and tiers so we will combine the names and tiers into a names_tier format to be analyzed further through our models.  Team composition tiers range from 0 to 2 where 0 means that there are no tier bonuses but the player still has some units that can form the team composition, and 2 means they have rightfully obtained all neccessary units to achieve the best team composition bonus.  As for the champion units, their tiers range from 1 to 3 where three units of tier 1 combines to a single tier 2 unit and three units of tier 2 combines to a single tier 3 unit."
   ]
  },
  {
   "cell_type": "code",
   "execution_count": null,
   "metadata": {},
   "outputs": [],
   "source": [
    "match_info_frames = []\n",
    "\n",
    "for game_id in game_id_list:\n",
    "  result_url = API_BASE_REGION + 'tft/match/v1/matches/' + game_id + '?api_key=' + KEY\n",
    "  REQUEST_RESULT = call_api(result_url)\n",
    "  result_data = json.loads(REQUEST_RESULT.text)\n",
    "  result_df = json_normalize(result_data)\n",
    "  match_info_frames.append(result_df)\n",
    "match_info_data = pd.concat(match_info_frames, ignore_index=True, sort=True)"
   ]
  },
  {
   "cell_type": "code",
   "execution_count": null,
   "metadata": {},
   "outputs": [],
   "source": [
    "match_info_data"
   ]
  },
  {
   "cell_type": "code",
   "execution_count": null,
   "metadata": {},
   "outputs": [],
   "source": [
    "match_info_data.columns"
   ]
  },
  {
   "cell_type": "code",
   "execution_count": null,
   "metadata": {},
   "outputs": [],
   "source": [
    "pd.options.display.max_seq_items = 2000"
   ]
  },
  {
   "cell_type": "code",
   "execution_count": null,
   "metadata": {},
   "outputs": [],
   "source": [
    "match_info_data['info.participants'][2]"
   ]
  },
  {
   "cell_type": "code",
   "execution_count": null,
   "metadata": {},
   "outputs": [],
   "source": [
    "participants_df = []\n",
    "for num in range(len(match_info_data['info.participants'])):\n",
    "    \n",
    "    data = match_info_data['info.participants'][num]\n",
    "    data_df = pd.DataFrame.from_dict(data)\n",
    "    participants_df.append(data_df)\n",
    "    game_df = pd.concat(participants_df, ignore_index=True, sort=True)\n",
    "\n",
    "game_df"
   ]
  },
  {
   "cell_type": "code",
   "execution_count": null,
   "metadata": {},
   "outputs": [],
   "source": [
    "range(len(game_df['units']))"
   ]
  },
  {
   "cell_type": "code",
   "execution_count": null,
   "metadata": {},
   "outputs": [],
   "source": [
    "traits_data = game_df['traits']\n",
    "traits_df = pd.DataFrame.from_dict(traits_data)\n",
    "traits_df['traits'][0]"
   ]
  },
  {
   "cell_type": "code",
   "execution_count": null,
   "metadata": {},
   "outputs": [],
   "source": [
    "units_data = game_df['units']\n",
    "units_df = pd.DataFrame.from_dict(units_data)\n",
    "units_df['units'][1]"
   ]
  },
  {
   "cell_type": "code",
   "execution_count": null,
   "metadata": {},
   "outputs": [],
   "source": [
    "# join the unit name with tier value in a list separated by comma\n",
    "game_df['units_name'] = [','.join([unit['name']+'_'+str(unit['tier']) for unit in units]) for units in game_df['units']]\n",
    "\n",
    "# create dummy columns of the list of 'unit_tier' per player and add it to original df\n",
    "units_df = game_df['units_name'].str.get_dummies(sep = ',')"
   ]
  },
  {
   "cell_type": "code",
   "execution_count": null,
   "metadata": {},
   "outputs": [],
   "source": [
    "# join the trait name with set tier value in a list separated by comma\n",
    "game_df['trait_name'] = [','.join([trait['name']+'_'+str(trait['tier_current']) for trait in traits]) for traits in game_df['traits']]\n",
    "\n",
    "# create dummy columns of the list of 'unit_tier' per player and add it to original df\n",
    "traits_df = game_df['trait_name'].str.get_dummies(sep = ',')"
   ]
  },
  {
   "cell_type": "code",
   "execution_count": null,
   "metadata": {
    "scrolled": true
   },
   "outputs": [],
   "source": [
    "# join the dummy columns with original game_df\n",
    "game_df = game_df.join(units_df)\n",
    "game_df = game_df.join(traits_df)\n"
   ]
  },
  {
   "cell_type": "code",
   "execution_count": null,
   "metadata": {},
   "outputs": [],
   "source": [
    "game_df = game_df.merge(join_summoners[['puuid','summonerName','division_tier']],left_on='puuid', right_on ='puuid')"
   ]
  },
  {
   "cell_type": "markdown",
   "metadata": {},
   "source": [
    "### Data Extraction "
   ]
  },
  {
   "cell_type": "markdown",
   "metadata": {},
   "source": [
    "Due to the limitations of RIOT API having empty server responses for some missing data, we had to separate our query process into 5 different pieces to be combined in the next pre-processing section.  To show example of methodology, all processes above should be run as written while below code should be edited to save data separately from this project's data source."
   ]
  },
  {
   "cell_type": "code",
   "execution_count": null,
   "metadata": {},
   "outputs": [],
   "source": [
    "# game_df previously have been saved as 1k_data.csv to 5k_data.csv\n",
    "game_df.to_csv('./datasets/6k_data.csv')"
   ]
  }
 ],
 "metadata": {
  "kernelspec": {
   "display_name": "Python 3",
   "language": "python",
   "name": "python3"
  },
  "language_info": {
   "codemirror_mode": {
    "name": "ipython",
    "version": 3
   },
   "file_extension": ".py",
   "mimetype": "text/x-python",
   "name": "python",
   "nbconvert_exporter": "python",
   "pygments_lexer": "ipython3",
   "version": "3.7.4"
  }
 },
 "nbformat": 4,
 "nbformat_minor": 2
}
